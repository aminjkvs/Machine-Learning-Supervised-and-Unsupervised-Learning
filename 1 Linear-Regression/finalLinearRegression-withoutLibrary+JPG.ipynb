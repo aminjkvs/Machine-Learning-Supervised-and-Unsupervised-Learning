{
 "cells": [
  {
   "cell_type": "code",
   "execution_count": 27,
   "id": "4cda373d-5e09-445e-a597-e84c486ecb07",
   "metadata": {},
   "outputs": [],
   "source": [
    "import numpy as np\n",
    "import matplotlib.pyplot as plt\n",
    "import os"
   ]
  },
  {
   "cell_type": "code",
   "execution_count": 29,
   "id": "ffd901f8-c7da-44c9-ba1d-e769f184fecb",
   "metadata": {},
   "outputs": [],
   "source": [
    "class LinearRegression:\n",
    "    def __init__(self, learning_rate=0.01, n_epochs=50):\n",
    "        self.lr = learning_rate\n",
    "        self.n_epochs = n_epochs\n",
    "        self.weights = None\n",
    "        self.bias = None\n",
    "        self.loss_history = []\n",
    "        \n",
    "    def fit(self, X, y, save_path=\"regression_frames\"):\n",
    "        # Create directory if doesn't exist\n",
    "        os.makedirs(save_path, exist_ok=True)\n",
    "        \n",
    "        n_samples, n_features = X.shape\n",
    "        self.weights = np.zeros(n_features)\n",
    "        self.bias = 0\n",
    "        \n",
    "        for epoch in range(self.n_epochs):\n",
    "            # Training step\n",
    "            y_pred = np.dot(X, self.weights) + self.bias\n",
    "            dw = (1/n_samples) * np.dot(X.T, (y_pred - y))\n",
    "            db = (1/n_samples) * np.sum(y_pred - y)\n",
    "            self.weights -= self.lr * dw\n",
    "            self.bias -= 10*self.lr * db\n",
    "            \n",
    "            # Track loss\n",
    "            loss = np.mean((y_pred - y)**2)\n",
    "            self.loss_history.append(loss)\n",
    "            \n",
    "            # Create and save plot for every iteration\n",
    "            self._save_plot(X, y, epoch, save_path)\n",
    "            \n",
    "    def _save_plot(self, X, y, epoch, save_path):\n",
    "        plt.figure(figsize=(12, 5))\n",
    "        \n",
    "        # Regression plot\n",
    "        plt.subplot(1, 2, 1)\n",
    "        plt.scatter(X, y, color='blue', alpha=0.5)\n",
    "        x_vals = np.array([0, 10])\n",
    "        y_vals = self.weights * x_vals + self.bias\n",
    "        plt.plot(x_vals, y_vals, 'r-', linewidth=2, \n",
    "                label=f'Epoch {epoch+1}: y = {self.weights[0]:.2f}x + {self.bias:.2f}')\n",
    "        plt.title('Regression Fit')\n",
    "        plt.xlabel('X')\n",
    "        plt.ylabel('y')\n",
    "        plt.legend()\n",
    "        plt.grid(True, linestyle='--', alpha=0.3)\n",
    "        \n",
    "        # Loss plot\n",
    "        plt.subplot(1, 2, 2)\n",
    "        plt.plot(range(epoch+1), self.loss_history[:epoch+1], 'b-')\n",
    "        plt.title('Training Loss (MSE)')\n",
    "        plt.xlabel('Epoch')\n",
    "        plt.ylabel('Mean Squared Error')\n",
    "        plt.grid(True, linestyle='--', alpha=0.3)\n",
    "        \n",
    "        # Save figure\n",
    "        plt.tight_layout()\n",
    "        plt.savefig(f\"{save_path}/epoch_{epoch+1:03d}.png\", dpi=100)\n",
    "        plt.close()"
   ]
  },
  {
   "cell_type": "code",
   "execution_count": 31,
   "id": "5f7f4a53-edb0-4a73-8bab-5a8bf13b51ce",
   "metadata": {},
   "outputs": [],
   "source": [
    "# Generate data\n",
    "np.random.seed(42)\n",
    "X = np.random.rand(100, 1) * 10\n",
    "true_slope = 1.5\n",
    "true_intercept = 2\n",
    "y = true_slope * X + true_intercept + np.random.randn(100, 1) * 2\n",
    "y = y.reshape(-1)"
   ]
  },
  {
   "cell_type": "code",
   "execution_count": 33,
   "id": "c08484f1-e669-4e45-a941-979a0905737a",
   "metadata": {},
   "outputs": [
    {
     "name": "stdout",
     "output_type": "stream",
     "text": [
      "All iteration plots saved successfully!\n"
     ]
    }
   ],
   "source": [
    "# Train and save plots\n",
    "model = LinearRegression(learning_rate=0.02, n_epochs=100)\n",
    "model.fit(X, y, save_path=\"finalLinearRegression-withoutLibrary+JPG-Files\")\n",
    "\n",
    "print(\"All iteration plots saved successfully!\")"
   ]
  },
  {
   "cell_type": "code",
   "execution_count": 35,
   "id": "5bb2bb94-2d4b-4546-a342-e2c0f2c61223",
   "metadata": {},
   "outputs": [
    {
     "name": "stdout",
     "output_type": "stream",
     "text": [
      "\n",
      "=== Final Model ===\n",
      "Slope: 1.4082 (True: 1.5)\n",
      "Intercept: 2.4293 (True: 2)\n",
      "Final MSE: 3.2263\n"
     ]
    }
   ],
   "source": [
    "# Final metrics\n",
    "print(\"\\n=== Final Model ===\")\n",
    "print(f\"Slope: {model.weights[0]:.4f} (True: {true_slope})\")\n",
    "print(f\"Intercept: {model.bias:.4f} (True: {true_intercept})\")\n",
    "print(f\"Final MSE: {model.loss_history[-1]:.4f}\")"
   ]
  },
  {
   "cell_type": "code",
   "execution_count": null,
   "id": "e2e782c9-421e-4ed4-bae4-5a7fa60562c6",
   "metadata": {},
   "outputs": [],
   "source": []
  }
 ],
 "metadata": {
  "kernelspec": {
   "display_name": "Python 3 (ipykernel)",
   "language": "python",
   "name": "python3"
  },
  "language_info": {
   "codemirror_mode": {
    "name": "ipython",
    "version": 3
   },
   "file_extension": ".py",
   "mimetype": "text/x-python",
   "name": "python",
   "nbconvert_exporter": "python",
   "pygments_lexer": "ipython3",
   "version": "3.12.3"
  }
 },
 "nbformat": 4,
 "nbformat_minor": 5
}
