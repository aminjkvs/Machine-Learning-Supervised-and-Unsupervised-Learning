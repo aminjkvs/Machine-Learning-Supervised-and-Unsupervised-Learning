{
 "cells": [
  {
   "cell_type": "code",
   "execution_count": 9,
   "id": "76bc8791-8274-45bb-840c-05ca04e88693",
   "metadata": {},
   "outputs": [],
   "source": [
    "import openpyxl\n",
    "import math\n",
    "import random\n",
    "import matplotlib.pyplot as plt\n",
    "import imageio\n",
    "import numpy as np"
   ]
  },
  {
   "cell_type": "code",
   "execution_count": 11,
   "id": "aded56f3-20da-4aae-b88b-cb1a3006f2f5",
   "metadata": {},
   "outputs": [],
   "source": [
    "class KNN:\n",
    "    def __init__(self, k=5):\n",
    "        self.k = k\n",
    "        self.X_train = []\n",
    "        self.y_train = []\n",
    "\n",
    "    def fit(self, X_train, y_train):\n",
    "        \"\"\"Stores the training data.\"\"\"\n",
    "        self.X_train = X_train\n",
    "        self.y_train = y_train\n",
    "\n",
    "    def predict(self, X_test, save_path=\"knn_animation.gif\"):\n",
    "        \"\"\"Predict labels and create animation.\"\"\"\n",
    "        frames = []\n",
    "        predictions = []\n",
    "        \n",
    "        for i, x in enumerate(X_test):\n",
    "            pred, frame = self._predict_and_plot(x, i)\n",
    "            predictions.append(pred)\n",
    "            frames.append(frame)\n",
    "        \n",
    "        # Save GIF animation\n",
    "        imageio.mimsave(save_path, frames, duration=0.5)\n",
    "        return predictions\n",
    "\n",
    "    def _predict_and_plot(self, x, test_idx):\n",
    "        \"\"\"Classify a single test sample and generate a frame for animation.\"\"\"\n",
    "        distances = []\n",
    "        for i in range(len(self.X_train)):\n",
    "            dist = self._euclidean_distance(x, self.X_train[i])\n",
    "            distances.append((dist, self.y_train[i], self.X_train[i]))\n",
    "\n",
    "        # Sort and pick k nearest neighbors\n",
    "        distances.sort(key=lambda d: d[0])\n",
    "        k_nearest = distances[:self.k]\n",
    "\n",
    "        # Determine majority class\n",
    "        k_labels = [label for _, label, _ in k_nearest]\n",
    "        predicted_class = max(set(k_labels), key=k_labels.count)\n",
    "\n",
    "        # Plot training data\n",
    "        fig, ax = plt.subplots(figsize=(8, 6))\n",
    "        for i in range(len(self.X_train)):\n",
    "            color = 'blue' if self.y_train[i] == 0 else 'red'\n",
    "            ax.scatter(self.X_train[i][0], self.X_train[i][1], color=color, alpha=0.6)\n",
    "\n",
    "        # Plot test point\n",
    "        ax.scatter(x[0], x[1], color=\"black\", s=100, label=\"Test Point\")\n",
    "\n",
    "        # Draw lines to k nearest neighbors\n",
    "        for _, label, neighbor in k_nearest:\n",
    "            color = 'blue' if label == 0 else 'red'\n",
    "            ax.plot([x[0], neighbor[0]], [x[1], neighbor[1]], color=color, linestyle=\"--\")\n",
    "\n",
    "        # Annotate the frame\n",
    "        ax.set_title(f\"KNN Classification: Test Point {test_idx+1}\\nPredicted Class: {predicted_class}\")\n",
    "        ax.set_xlabel(\"Feature 1\")\n",
    "        ax.set_ylabel(\"Feature 2\")\n",
    "        ax.legend()\n",
    "        \n",
    "        # Save frame\n",
    "        fig.canvas.draw()\n",
    "        image = np.array(fig.canvas.renderer.buffer_rgba())\n",
    "        plt.close(fig)\n",
    "        return predicted_class, image\n",
    "\n",
    "    def _euclidean_distance(self, point1, point2):\n",
    "        \"\"\"Calculate Euclidean distance between two points.\"\"\"\n",
    "        return math.sqrt(sum((point1[i] - point2[i]) ** 2 for i in range(len(point1))))"
   ]
  },
  {
   "cell_type": "code",
   "execution_count": 13,
   "id": "9ef548ac-2b75-489f-a29c-14042611458f",
   "metadata": {},
   "outputs": [],
   "source": [
    "# Load dataset manually from Excel\n",
    "file_path = \"DataSetNew-GPS.xlsx\"  # Change this to your actual file\n",
    "wb = openpyxl.load_workbook(file_path)\n",
    "sheet = wb.active\n",
    "\n",
    "# Read data manually\n",
    "data = []\n",
    "for row in sheet.iter_rows(values_only=True):\n",
    "    data.append(row)\n",
    "\n",
    "# Remove header if it exists\n",
    "data = data[1:]  \n",
    "\n",
    "# Randomly select 1000 rows from 240000\n",
    "random.shuffle(data)\n",
    "data = data[:200]\n",
    "\n",
    "# Extract features and labels\n",
    "X = [list(row[:2]) for row in data]  # First two columns as features\n",
    "y = [row[2] for row in data]         # Third column as label (0 or 1)\n",
    "\n",
    "# Split data manually (80% train, 20% test)\n",
    "split_index = int(0.8 * len(X))\n",
    "X_train, X_test = X[:split_index], X[split_index:]\n",
    "y_train, y_test = y[:split_index], y[split_index:]"
   ]
  },
  {
   "cell_type": "code",
   "execution_count": 14,
   "id": "1b09f734-515c-4ec7-8a90-1b49604db1b0",
   "metadata": {},
   "outputs": [
    {
     "name": "stdout",
     "output_type": "stream",
     "text": [
      "\n",
      "KNN Classification Accuracy: 99.00%\n",
      "KNN Animation GIF Saved Successfully!\n"
     ]
    }
   ],
   "source": [
    "# Initialize and train KNN model\n",
    "knn = KNN(k=5)\n",
    "knn.fit(X_train, y_train)\n",
    "\n",
    "# Make predictions and generate animation\n",
    "y_pred = knn.predict(X_test, save_path=\"knn_classification.gif\")\n",
    "\n",
    "# Calculate accuracy manually\n",
    "correct = sum(1 for i in range(len(y_test)) if y_test[i] == y_pred[i])\n",
    "accuracy = (correct / len(y_test)) * 100\n",
    "\n",
    "print(f\"\\nKNN Classification Accuracy: {accuracy:.2f}%\")\n",
    "print(\"KNN Animation GIF Saved Successfully!\")"
   ]
  },
  {
   "cell_type": "code",
   "execution_count": 19,
   "id": "f9dba7bc-b40f-4b1c-8719-ded0f67bfe3c",
   "metadata": {},
   "outputs": [
    {
     "name": "stderr",
     "output_type": "stream",
     "text": [
      "\n",
      "KeyboardInterrupt\n",
      "\n"
     ]
    },
    {
     "name": "stdout",
     "output_type": "stream",
     "text": [
      "Error in callback <function _draw_all_if_interactive at 0x0000004AB8A08680> (for post_execute), with arguments args (),kwargs {}:\n"
     ]
    },
    {
     "name": "stderr",
     "output_type": "stream",
     "text": [
      "\n",
      "KeyboardInterrupt\n",
      "\n"
     ]
    },
    {
     "name": "stdout",
     "output_type": "stream",
     "text": [
      "Error in callback <function flush_figures at 0x0000004ABAE28E00> (for post_execute), with arguments args (),kwargs {}:\n"
     ]
    },
    {
     "name": "stderr",
     "output_type": "stream",
     "text": [
      "\n",
      "KeyboardInterrupt\n",
      "\n"
     ]
    }
   ],
   "source": [
    "def frange(start, stop, step):\n",
    "    while start < stop:\n",
    "        yield round(start, 10)  # Avoid floating-point precision issues\n",
    "        start += step\n",
    "\n",
    "# Create a mesh grid for decision boundary visualization\n",
    "x_min, x_max = min(p[0] for p in X), max(p[0] for p in X)\n",
    "y_min, y_max = min(p[1] for p in X), max(p[1] for p in X)\n",
    "\n",
    "# Generate a grid of points\n",
    "step = 0.1  # Adjust resolution\n",
    "xx, yy = [], []\n",
    "x_range = list(frange(x_min - 1, x_max + 1, step))\n",
    "y_range = list(frange(y_min - 1, y_max + 1, step))\n",
    "\n",
    "for x in x_range:\n",
    "    for y in y_range:\n",
    "        xx.append(x)\n",
    "        yy.append(y)\n",
    "\n",
    "grid_points = list(zip(xx, yy))\n",
    "\n",
    "# Predict class for each grid point\n",
    "grid_predictions = knn.predict(grid_points)\n",
    "\n",
    "# Plot decision boundary\n",
    "plt.figure(figsize=(8, 6))\n",
    "for i in range(len(grid_points)):\n",
    "    color = \"lightblue\" if grid_predictions[i] == 0 else \"lightcoral\"\n",
    "    plt.scatter(grid_points[i][0], grid_points[i][1], color=color, s=2, alpha=0.5)\n",
    "\n",
    "# Plot training data\n",
    "for i in range(len(X_train)):\n",
    "    color = \"blue\" if y_train[i] == 0 else \"red\"\n",
    "    plt.scatter(X_train[i][0], X_train[i][1], color=color, edgecolor=\"k\", s=30)\n",
    "\n",
    "plt.title(\"KNN Decision Boundary\")\n",
    "plt.xlabel(\"Feature 1\")\n",
    "plt.ylabel(\"Feature 2\")\n",
    "plt.show()\n"
   ]
  },
  {
   "cell_type": "code",
   "execution_count": 21,
   "id": "e46c748c-f73b-4305-90d8-ba392f30f78c",
   "metadata": {},
   "outputs": [
    {
     "ename": "ValueError",
     "evalue": "all input arrays must have the same shape",
     "output_type": "error",
     "traceback": [
      "\u001b[1;31m---------------------------------------------------------------------------\u001b[0m",
      "\u001b[1;31mValueError\u001b[0m                                Traceback (most recent call last)",
      "Cell \u001b[1;32mIn[21], line 18\u001b[0m\n\u001b[0;32m     15\u001b[0m     imageio\u001b[38;5;241m.\u001b[39mmimsave(output_gif, gif, duration\u001b[38;5;241m=\u001b[39mnew_duration)\n\u001b[0;32m     17\u001b[0m \u001b[38;5;66;03m# Example usage\u001b[39;00m\n\u001b[1;32m---> 18\u001b[0m slow_down_gif(\u001b[38;5;124m\"\u001b[39m\u001b[38;5;124mknn_classification.gif\u001b[39m\u001b[38;5;124m\"\u001b[39m, \u001b[38;5;124m\"\u001b[39m\u001b[38;5;124mknn_classification2.gif\u001b[39m\u001b[38;5;124m\"\u001b[39m, slow_factor\u001b[38;5;241m=\u001b[39m\u001b[38;5;241m5\u001b[39m)\n\u001b[0;32m     20\u001b[0m \u001b[38;5;28mprint\u001b[39m(\u001b[38;5;124m\"\u001b[39m\u001b[38;5;124mGIF slowed down successfully!\u001b[39m\u001b[38;5;124m\"\u001b[39m)\n",
      "Cell \u001b[1;32mIn[21], line 15\u001b[0m, in \u001b[0;36mslow_down_gif\u001b[1;34m(input_gif, output_gif, slow_factor)\u001b[0m\n\u001b[0;32m     12\u001b[0m new_duration \u001b[38;5;241m=\u001b[39m original_duration \u001b[38;5;241m*\u001b[39m slow_factor\n\u001b[0;32m     14\u001b[0m \u001b[38;5;66;03m# Save new GIF with slower frame rate\u001b[39;00m\n\u001b[1;32m---> 15\u001b[0m imageio\u001b[38;5;241m.\u001b[39mmimsave(output_gif, gif, duration\u001b[38;5;241m=\u001b[39mnew_duration)\n",
      "File \u001b[1;32mC:\\ProgramData\\anaconda3\\Lib\\site-packages\\imageio\\v2.py:495\u001b[0m, in \u001b[0;36mmimwrite\u001b[1;34m(uri, ims, format, **kwargs)\u001b[0m\n\u001b[0;32m    493\u001b[0m imopen_args[\u001b[38;5;124m\"\u001b[39m\u001b[38;5;124mlegacy_mode\u001b[39m\u001b[38;5;124m\"\u001b[39m] \u001b[38;5;241m=\u001b[39m \u001b[38;5;28;01mTrue\u001b[39;00m\n\u001b[0;32m    494\u001b[0m \u001b[38;5;28;01mwith\u001b[39;00m imopen(uri, \u001b[38;5;124m\"\u001b[39m\u001b[38;5;124mwI\u001b[39m\u001b[38;5;124m\"\u001b[39m, \u001b[38;5;241m*\u001b[39m\u001b[38;5;241m*\u001b[39mimopen_args) \u001b[38;5;28;01mas\u001b[39;00m file:\n\u001b[1;32m--> 495\u001b[0m     \u001b[38;5;28;01mreturn\u001b[39;00m file\u001b[38;5;241m.\u001b[39mwrite(ims, is_batch\u001b[38;5;241m=\u001b[39m\u001b[38;5;28;01mTrue\u001b[39;00m, \u001b[38;5;241m*\u001b[39m\u001b[38;5;241m*\u001b[39mkwargs)\n",
      "File \u001b[1;32mC:\\ProgramData\\anaconda3\\Lib\\site-packages\\imageio\\plugins\\pillow.py:417\u001b[0m, in \u001b[0;36mPillowPlugin.write\u001b[1;34m(self, ndimage, mode, format, is_batch, **kwargs)\u001b[0m\n\u001b[0;32m    414\u001b[0m     kwargs[\u001b[38;5;124m\"\u001b[39m\u001b[38;5;124mduration\u001b[39m\u001b[38;5;124m\"\u001b[39m] \u001b[38;5;241m=\u001b[39m \u001b[38;5;241m1000\u001b[39m \u001b[38;5;241m*\u001b[39m \u001b[38;5;241m1\u001b[39m \u001b[38;5;241m/\u001b[39m kwargs\u001b[38;5;241m.\u001b[39mget(\u001b[38;5;124m\"\u001b[39m\u001b[38;5;124mfps\u001b[39m\u001b[38;5;124m\"\u001b[39m)\n\u001b[0;32m    416\u001b[0m \u001b[38;5;28;01mif\u001b[39;00m \u001b[38;5;28misinstance\u001b[39m(ndimage, \u001b[38;5;28mlist\u001b[39m):\n\u001b[1;32m--> 417\u001b[0m     ndimage \u001b[38;5;241m=\u001b[39m np\u001b[38;5;241m.\u001b[39mstack(ndimage, axis\u001b[38;5;241m=\u001b[39m\u001b[38;5;241m0\u001b[39m)\n\u001b[0;32m    418\u001b[0m     is_batch \u001b[38;5;241m=\u001b[39m \u001b[38;5;28;01mTrue\u001b[39;00m\n\u001b[0;32m    419\u001b[0m \u001b[38;5;28;01melse\u001b[39;00m:\n",
      "File \u001b[1;32mC:\\ProgramData\\anaconda3\\Lib\\site-packages\\numpy\\core\\shape_base.py:449\u001b[0m, in \u001b[0;36mstack\u001b[1;34m(arrays, axis, out, dtype, casting)\u001b[0m\n\u001b[0;32m    447\u001b[0m shapes \u001b[38;5;241m=\u001b[39m {arr\u001b[38;5;241m.\u001b[39mshape \u001b[38;5;28;01mfor\u001b[39;00m arr \u001b[38;5;129;01min\u001b[39;00m arrays}\n\u001b[0;32m    448\u001b[0m \u001b[38;5;28;01mif\u001b[39;00m \u001b[38;5;28mlen\u001b[39m(shapes) \u001b[38;5;241m!=\u001b[39m \u001b[38;5;241m1\u001b[39m:\n\u001b[1;32m--> 449\u001b[0m     \u001b[38;5;28;01mraise\u001b[39;00m \u001b[38;5;167;01mValueError\u001b[39;00m(\u001b[38;5;124m'\u001b[39m\u001b[38;5;124mall input arrays must have the same shape\u001b[39m\u001b[38;5;124m'\u001b[39m)\n\u001b[0;32m    451\u001b[0m result_ndim \u001b[38;5;241m=\u001b[39m arrays[\u001b[38;5;241m0\u001b[39m]\u001b[38;5;241m.\u001b[39mndim \u001b[38;5;241m+\u001b[39m \u001b[38;5;241m1\u001b[39m\n\u001b[0;32m    452\u001b[0m axis \u001b[38;5;241m=\u001b[39m normalize_axis_index(axis, result_ndim)\n",
      "\u001b[1;31mValueError\u001b[0m: all input arrays must have the same shape"
     ]
    }
   ],
   "source": [
    "import imageio\n",
    "\n",
    "def slow_down_gif(input_gif, output_gif, slow_factor=5):\n",
    "    \"\"\"Slows down a GIF by increasing frame duration.\"\"\"\n",
    "    # Load GIF frames\n",
    "    gif = imageio.mimread(input_gif)\n",
    "    \n",
    "    # Get the original duration (default is ~0.1s if not specified)\n",
    "    original_duration = 0.1  \n",
    "    \n",
    "    # New duration (5x slower)\n",
    "    new_duration = original_duration * slow_factor\n",
    "\n",
    "    # Save new GIF with slower frame rate\n",
    "    imageio.mimsave(output_gif, gif, duration=new_duration)\n",
    "\n",
    "# Example usage\n",
    "slow_down_gif(\"knn_classification.gif\", \"knn_classification2.gif\", slow_factor=5)\n",
    "\n",
    "print(\"GIF slowed down successfully!\")"
   ]
  },
  {
   "cell_type": "code",
   "execution_count": null,
   "id": "7d22cc70-015c-4441-8a88-35e7c5868d76",
   "metadata": {},
   "outputs": [],
   "source": []
  }
 ],
 "metadata": {
  "kernelspec": {
   "display_name": "Python 3 (ipykernel)",
   "language": "python",
   "name": "python3"
  },
  "language_info": {
   "codemirror_mode": {
    "name": "ipython",
    "version": 3
   },
   "file_extension": ".py",
   "mimetype": "text/x-python",
   "name": "python",
   "nbconvert_exporter": "python",
   "pygments_lexer": "ipython3",
   "version": "3.12.3"
  }
 },
 "nbformat": 4,
 "nbformat_minor": 5
}
